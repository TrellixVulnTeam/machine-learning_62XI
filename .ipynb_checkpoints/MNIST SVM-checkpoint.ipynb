{
 "cells": [
  {
   "cell_type": "code",
   "execution_count": 1,
   "metadata": {},
   "outputs": [
    {
     "name": "stderr",
     "output_type": "stream",
     "text": [
      "d:\\programs\\python\\lib\\site-packages\\sklearn\\utils\\deprecation.py:77: DeprecationWarning: Function fetch_mldata is deprecated; fetch_mldata was deprecated in version 0.20 and will be removed in version 0.22\n",
      "  warnings.warn(msg, category=DeprecationWarning)\n",
      "d:\\programs\\python\\lib\\site-packages\\sklearn\\utils\\deprecation.py:77: DeprecationWarning: Function mldata_filename is deprecated; mldata_filename was deprecated in version 0.20 and will be removed in version 0.22\n",
      "  warnings.warn(msg, category=DeprecationWarning)\n"
     ]
    },
    {
     "data": {
      "text/plain": [
       "(array([[0, 0, 0, ..., 0, 0, 0],\n",
       "        [0, 0, 0, ..., 0, 0, 0],\n",
       "        [0, 0, 0, ..., 0, 0, 0],\n",
       "        ...,\n",
       "        [0, 0, 0, ..., 0, 0, 0],\n",
       "        [0, 0, 0, ..., 0, 0, 0],\n",
       "        [0, 0, 0, ..., 0, 0, 0]], dtype=uint8),\n",
       " array([0., 0., 0., ..., 9., 9., 9.]))"
      ]
     },
     "execution_count": 1,
     "metadata": {},
     "output_type": "execute_result"
    }
   ],
   "source": [
    "from sklearn.datasets import fetch_mldata\n",
    "\n",
    "mnist = fetch_mldata('MNIST original', transpose_data=True, data_home='datasets')\n",
    "mnist['data'], mnist['target']"
   ]
  },
  {
   "cell_type": "code",
   "execution_count": 3,
   "metadata": {},
   "outputs": [],
   "source": [
    "X = mnist[\"data\"]\n",
    "y = mnist[\"target\"]\n",
    "\n",
    "X_train = X[:60000]\n",
    "y_train = y[:60000]\n",
    "X_test = X[60000:]\n",
    "y_test = y[60000:]"
   ]
  },
  {
   "cell_type": "code",
   "execution_count": 5,
   "metadata": {},
   "outputs": [],
   "source": [
    "import numpy as np\n",
    "\n",
    "np.random.seed(42)\n",
    "rnd_idx = np.random.permutation(60000)\n",
    "X_train = X_train[rnd_idx]\n",
    "y_train = y_train[rnd_idx]"
   ]
  },
  {
   "cell_type": "code",
   "execution_count": 7,
   "metadata": {},
   "outputs": [
    {
     "name": "stderr",
     "output_type": "stream",
     "text": [
      "d:\\programs\\python\\lib\\site-packages\\sklearn\\svm\\base.py:931: ConvergenceWarning: Liblinear failed to converge, increase the number of iterations.\n",
      "  \"the number of iterations.\", ConvergenceWarning)\n"
     ]
    },
    {
     "data": {
      "text/plain": [
       "LinearSVC(C=1.0, class_weight=None, dual=True, fit_intercept=True,\n",
       "     intercept_scaling=1, loss='squared_hinge', max_iter=1000,\n",
       "     multi_class='ovr', penalty='l2', random_state=42, tol=0.0001,\n",
       "     verbose=0)"
      ]
     },
     "execution_count": 7,
     "metadata": {},
     "output_type": "execute_result"
    }
   ],
   "source": [
    "from sklearn.svm import LinearSVC\n",
    "\n",
    "lin_clf = LinearSVC(random_state=42)\n",
    "lin_clf.fit(X_train, y_train)"
   ]
  },
  {
   "cell_type": "code",
   "execution_count": 8,
   "metadata": {},
   "outputs": [
    {
     "data": {
      "text/plain": [
       "0.85375"
      ]
     },
     "execution_count": 8,
     "metadata": {},
     "output_type": "execute_result"
    }
   ],
   "source": [
    "from sklearn.metrics import accuracy_score\n",
    "\n",
    "y_pred = lin_clf.predict(X_train)\n",
    "accuracy_score(y_train, y_pred)"
   ]
  },
  {
   "cell_type": "code",
   "execution_count": 25,
   "metadata": {},
   "outputs": [],
   "source": [
    "from sklearn.preprocessing import StandardScaler\n",
    "\n",
    "scaler = StandardScaler()\n",
    "X_train_scaled = scaler.fit_transform(X_train[:20000].astype(np.float32))\n",
    "X_test_scaled = scaler.transform(X_test.astype(np.float32))"
   ]
  },
  {
   "cell_type": "code",
   "execution_count": 26,
   "metadata": {},
   "outputs": [
    {
     "name": "stderr",
     "output_type": "stream",
     "text": [
      "d:\\programs\\python\\lib\\site-packages\\sklearn\\svm\\base.py:931: ConvergenceWarning: Liblinear failed to converge, increase the number of iterations.\n",
      "  \"the number of iterations.\", ConvergenceWarning)\n"
     ]
    },
    {
     "data": {
      "text/plain": [
       "LinearSVC(C=1.0, class_weight=None, dual=True, fit_intercept=True,\n",
       "     intercept_scaling=1, loss='squared_hinge', max_iter=1000,\n",
       "     multi_class='ovr', penalty='l2', random_state=42, tol=0.0001,\n",
       "     verbose=0)"
      ]
     },
     "execution_count": 26,
     "metadata": {},
     "output_type": "execute_result"
    }
   ],
   "source": [
    "lin_clf = LinearSVC(random_state=42)\n",
    "lin_clf.fit(X_train_scaled, y_train[:20000])"
   ]
  },
  {
   "cell_type": "code",
   "execution_count": 27,
   "metadata": {},
   "outputs": [
    {
     "name": "stderr",
     "output_type": "stream",
     "text": [
      "d:\\programs\\python\\lib\\site-packages\\sklearn\\svm\\base.py:931: ConvergenceWarning: Liblinear failed to converge, increase the number of iterations.\n",
      "  \"the number of iterations.\", ConvergenceWarning)\n"
     ]
    },
    {
     "data": {
      "text/plain": [
       "LinearSVC(C=1.0, class_weight=None, dual=True, fit_intercept=True,\n",
       "     intercept_scaling=1, loss='squared_hinge', max_iter=1000,\n",
       "     multi_class='ovr', penalty='l2', random_state=42, tol=0.0001,\n",
       "     verbose=0)"
      ]
     },
     "execution_count": 27,
     "metadata": {},
     "output_type": "execute_result"
    }
   ],
   "source": [
    "X_train_scaled = scaler.fit_transform(X_train[20000:40000].astype(np.float32))\n",
    "\n",
    "lin_clf.fit(X_train_scaled, y_train[20000:40000])"
   ]
  },
  {
   "cell_type": "code",
   "execution_count": 28,
   "metadata": {},
   "outputs": [
    {
     "name": "stderr",
     "output_type": "stream",
     "text": [
      "d:\\programs\\python\\lib\\site-packages\\sklearn\\svm\\base.py:931: ConvergenceWarning: Liblinear failed to converge, increase the number of iterations.\n",
      "  \"the number of iterations.\", ConvergenceWarning)\n"
     ]
    },
    {
     "data": {
      "text/plain": [
       "LinearSVC(C=1.0, class_weight=None, dual=True, fit_intercept=True,\n",
       "     intercept_scaling=1, loss='squared_hinge', max_iter=1000,\n",
       "     multi_class='ovr', penalty='l2', random_state=42, tol=0.0001,\n",
       "     verbose=0)"
      ]
     },
     "execution_count": 28,
     "metadata": {},
     "output_type": "execute_result"
    }
   ],
   "source": [
    "X_train_scaled = scaler.fit_transform(X_train[40000:].astype(np.float32))\n",
    "\n",
    "lin_clf.fit(X_train_scaled, y_train[40000:])"
   ]
  },
  {
   "cell_type": "code",
   "execution_count": 31,
   "metadata": {},
   "outputs": [
    {
     "data": {
      "text/plain": [
       "0.94135"
      ]
     },
     "execution_count": 31,
     "metadata": {},
     "output_type": "execute_result"
    }
   ],
   "source": [
    "y_pred = lin_clf.predict(X_train_scaled)\n",
    "accuracy_score(y_train[40000:], y_pred)"
   ]
  },
  {
   "cell_type": "code",
   "execution_count": 33,
   "metadata": {},
   "outputs": [
    {
     "data": {
      "text/plain": [
       "SVC(C=1.0, cache_size=200, class_weight=None, coef0=0.0,\n",
       "  decision_function_shape='ovr', degree=3, gamma='auto', kernel='rbf',\n",
       "  max_iter=-1, probability=False, random_state=None, shrinking=True,\n",
       "  tol=0.001, verbose=False)"
      ]
     },
     "execution_count": 33,
     "metadata": {},
     "output_type": "execute_result"
    }
   ],
   "source": [
    "from sklearn.svm import SVC\n",
    "\n",
    "svm_clf = SVC(decision_function_shape=\"ovr\", gamma=\"auto\")\n",
    "svm_clf.fit(X_train_scaled, y_train[40000:])"
   ]
  },
  {
   "cell_type": "code",
   "execution_count": 34,
   "metadata": {},
   "outputs": [
    {
     "data": {
      "text/plain": [
       "0.98165"
      ]
     },
     "execution_count": 34,
     "metadata": {},
     "output_type": "execute_result"
    }
   ],
   "source": [
    "y_pred = svm_clf.predict(X_train_scaled)\n",
    "accuracy_score(y_train[40000:], y_pred)"
   ]
  },
  {
   "cell_type": "code",
   "execution_count": 42,
   "metadata": {},
   "outputs": [
    {
     "name": "stdout",
     "output_type": "stream",
     "text": [
      "Fitting 3 folds for each of 10 candidates, totalling 30 fits\n",
      "[CV] C=1.39323209425849, gamma=0.005494878493960264 ..................\n"
     ]
    },
    {
     "name": "stderr",
     "output_type": "stream",
     "text": [
      "[Parallel(n_jobs=1)]: Using backend SequentialBackend with 1 concurrent workers.\n"
     ]
    },
    {
     "name": "stdout",
     "output_type": "stream",
     "text": [
      "[CV] ... C=1.39323209425849, gamma=0.005494878493960264, total= 1.1min\n",
      "[CV] C=1.39323209425849, gamma=0.005494878493960264 ..................\n"
     ]
    },
    {
     "name": "stderr",
     "output_type": "stream",
     "text": [
      "[Parallel(n_jobs=1)]: Done   1 out of   1 | elapsed:  1.6min remaining:    0.0s\n"
     ]
    },
    {
     "name": "stdout",
     "output_type": "stream",
     "text": [
      "[CV] ... C=1.39323209425849, gamma=0.005494878493960264, total= 1.2min\n",
      "[CV] C=1.39323209425849, gamma=0.005494878493960264 ..................\n",
      "[CV] ... C=1.39323209425849, gamma=0.005494878493960264, total= 1.2min\n",
      "[CV] C=7.144977357425403, gamma=0.01373214584730166 ..................\n",
      "[CV] ... C=7.144977357425403, gamma=0.01373214584730166, total= 1.6min\n",
      "[CV] C=7.144977357425403, gamma=0.01373214584730166 ..................\n",
      "[CV] ... C=7.144977357425403, gamma=0.01373214584730166, total= 1.6min\n",
      "[CV] C=7.144977357425403, gamma=0.01373214584730166 ..................\n",
      "[CV] ... C=7.144977357425403, gamma=0.01373214584730166, total= 1.5min\n",
      "[CV] C=1.6032271117801413, gamma=0.001330818719999577 ................\n",
      "[CV] . C=1.6032271117801413, gamma=0.001330818719999577, total=  27.5s\n",
      "[CV] C=1.6032271117801413, gamma=0.001330818719999577 ................\n",
      "[CV] . C=1.6032271117801413, gamma=0.001330818719999577, total=  27.5s\n",
      "[CV] C=1.6032271117801413, gamma=0.001330818719999577 ................\n",
      "[CV] . C=1.6032271117801413, gamma=0.001330818719999577, total=  27.1s\n",
      "[CV] C=4.050674777929326, gamma=0.03489782332111142 ..................\n",
      "[CV] ... C=4.050674777929326, gamma=0.03489782332111142, total= 1.7min\n",
      "[CV] C=4.050674777929326, gamma=0.03489782332111142 ..................\n",
      "[CV] ... C=4.050674777929326, gamma=0.03489782332111142, total= 1.5min\n",
      "[CV] C=4.050674777929326, gamma=0.03489782332111142 ..................\n",
      "[CV] ... C=4.050674777929326, gamma=0.03489782332111142, total= 1.7min\n",
      "[CV] C=1.2057674101026674, gamma=0.017055109405374556 ................\n",
      "[CV] . C=1.2057674101026674, gamma=0.017055109405374556, total= 1.7min\n",
      "[CV] C=1.2057674101026674, gamma=0.017055109405374556 ................\n",
      "[CV] . C=1.2057674101026674, gamma=0.017055109405374556, total= 1.7min\n",
      "[CV] C=1.2057674101026674, gamma=0.017055109405374556 ................\n",
      "[CV] . C=1.2057674101026674, gamma=0.017055109405374556, total= 1.7min\n",
      "[CV] C=2.8370172923179373, gamma=0.07738066984028114 .................\n",
      "[CV] .. C=2.8370172923179373, gamma=0.07738066984028114, total= 1.7min\n",
      "[CV] C=2.8370172923179373, gamma=0.07738066984028114 .................\n",
      "[CV] .. C=2.8370172923179373, gamma=0.07738066984028114, total= 1.8min\n",
      "[CV] C=2.8370172923179373, gamma=0.07738066984028114 .................\n",
      "[CV] .. C=2.8370172923179373, gamma=0.07738066984028114, total= 1.7min\n",
      "[CV] C=5.30215378783041, gamma=0.0012467168846967123 .................\n",
      "[CV] .. C=5.30215378783041, gamma=0.0012467168846967123, total=  20.3s\n",
      "[CV] C=5.30215378783041, gamma=0.0012467168846967123 .................\n",
      "[CV] .. C=5.30215378783041, gamma=0.0012467168846967123, total=  21.8s\n",
      "[CV] C=5.30215378783041, gamma=0.0012467168846967123 .................\n",
      "[CV] .. C=5.30215378783041, gamma=0.0012467168846967123, total=  22.2s\n",
      "[CV] C=8.136384803174241, gamma=0.0093157725565906 ...................\n",
      "[CV] .... C=8.136384803174241, gamma=0.0093157725565906, total= 1.3min\n",
      "[CV] C=8.136384803174241, gamma=0.0093157725565906 ...................\n",
      "[CV] .... C=8.136384803174241, gamma=0.0093157725565906, total= 1.3min\n",
      "[CV] C=8.136384803174241, gamma=0.0093157725565906 ...................\n",
      "[CV] .... C=8.136384803174241, gamma=0.0093157725565906, total= 1.3min\n",
      "[CV] C=9.812403788732077, gamma=0.020121030222347566 .................\n",
      "[CV] .. C=9.812403788732077, gamma=0.020121030222347566, total= 1.4min\n",
      "[CV] C=9.812403788732077, gamma=0.020121030222347566 .................\n",
      "[CV] .. C=9.812403788732077, gamma=0.020121030222347566, total= 1.4min\n",
      "[CV] C=9.812403788732077, gamma=0.020121030222347566 .................\n",
      "[CV] .. C=9.812403788732077, gamma=0.020121030222347566, total= 1.4min\n",
      "[CV] C=7.925256612422903, gamma=0.03423889302276523 ..................\n",
      "[CV] ... C=7.925256612422903, gamma=0.03423889302276523, total= 1.5min\n",
      "[CV] C=7.925256612422903, gamma=0.03423889302276523 ..................\n",
      "[CV] ... C=7.925256612422903, gamma=0.03423889302276523, total= 1.5min\n",
      "[CV] C=7.925256612422903, gamma=0.03423889302276523 ..................\n",
      "[CV] ... C=7.925256612422903, gamma=0.03423889302276523, total= 1.4min\n"
     ]
    },
    {
     "name": "stderr",
     "output_type": "stream",
     "text": [
      "[Parallel(n_jobs=1)]: Done  30 out of  30 | elapsed: 52.8min finished\n"
     ]
    },
    {
     "data": {
      "text/plain": [
       "RandomizedSearchCV(cv=3, error_score='raise-deprecating',\n",
       "          estimator=SVC(C=1.0, cache_size=200, class_weight=None, coef0=0.0,\n",
       "  decision_function_shape='ovr', degree=3, gamma='auto', kernel='rbf',\n",
       "  max_iter=-1, probability=False, random_state=None, shrinking=True,\n",
       "  tol=0.001, verbose=False),\n",
       "          fit_params=None, iid='warn', n_iter=10, n_jobs=None,\n",
       "          param_distributions={'gamma': <scipy.stats._distn_infrastructure.rv_frozen object at 0x05B80FD0>, 'C': <scipy.stats._distn_infrastructure.rv_frozen object at 0x05C68930>},\n",
       "          pre_dispatch='2*n_jobs', random_state=None, refit=True,\n",
       "          return_train_score='warn', scoring=None, verbose=2)"
      ]
     },
     "execution_count": 42,
     "metadata": {},
     "output_type": "execute_result"
    }
   ],
   "source": [
    "from sklearn.model_selection import RandomizedSearchCV\n",
    "from scipy.stats import reciprocal, uniform\n",
    "\n",
    "X_train_scaled = scaler.fit_transform(X_train[:10000].astype(np.float32))\n",
    "\n",
    "param_distributions = {\"gamma\": reciprocal(0.001, 0.1), \"C\": uniform(1, 10)}\n",
    "rnd_search_cv = RandomizedSearchCV(svm_clf, param_distributions, n_iter=10, verbose=2, cv=3)\n",
    "rnd_search_cv.fit(X_train_scaled, y_train[:10000])"
   ]
  },
  {
   "cell_type": "code",
   "execution_count": 43,
   "metadata": {},
   "outputs": [
    {
     "data": {
      "text/plain": [
       "SVC(C=5.30215378783041, cache_size=200, class_weight=None, coef0=0.0,\n",
       "  decision_function_shape='ovr', degree=3, gamma=0.0012467168846967123,\n",
       "  kernel='rbf', max_iter=-1, probability=False, random_state=None,\n",
       "  shrinking=True, tol=0.001, verbose=False)"
      ]
     },
     "execution_count": 43,
     "metadata": {},
     "output_type": "execute_result"
    }
   ],
   "source": [
    "rnd_search_cv.best_estimator_"
   ]
  },
  {
   "cell_type": "code",
   "execution_count": 44,
   "metadata": {},
   "outputs": [
    {
     "data": {
      "text/plain": [
       "0.9398"
      ]
     },
     "execution_count": 44,
     "metadata": {},
     "output_type": "execute_result"
    }
   ],
   "source": [
    "rnd_search_cv.best_score_"
   ]
  },
  {
   "cell_type": "code",
   "execution_count": 45,
   "metadata": {},
   "outputs": [
    {
     "data": {
      "text/plain": [
       "0.9507"
      ]
     },
     "execution_count": 45,
     "metadata": {},
     "output_type": "execute_result"
    }
   ],
   "source": [
    "y_pred = rnd_search_cv.best_estimator_.predict(X_test_scaled)\n",
    "accuracy_score(y_test, y_pred)"
   ]
  }
 ],
 "metadata": {
  "kernelspec": {
   "display_name": "Python 3",
   "language": "python",
   "name": "python3"
  },
  "language_info": {
   "codemirror_mode": {
    "name": "ipython",
    "version": 3
   },
   "file_extension": ".py",
   "mimetype": "text/x-python",
   "name": "python",
   "nbconvert_exporter": "python",
   "pygments_lexer": "ipython3",
   "version": "3.7.2"
  }
 },
 "nbformat": 4,
 "nbformat_minor": 2
}
